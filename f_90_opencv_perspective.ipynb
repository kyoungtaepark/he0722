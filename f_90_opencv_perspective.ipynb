{
  "nbformat": 4,
  "nbformat_minor": 5,
  "metadata": {
    "kernelspec": {
      "display_name": "Python 3",
      "language": "python",
      "name": "python3"
    },
    "language_info": {
      "codemirror_mode": {
        "name": "ipython",
        "version": 3
      },
      "file_extension": ".py",
      "mimetype": "text/x-python",
      "name": "python",
      "nbconvert_exporter": "python",
      "pygments_lexer": "ipython3",
      "version": "3.8.8"
    },
    "toc": {
      "base_numbering": 1,
      "nav_menu": {},
      "number_sections": false,
      "sideBar": true,
      "skip_h1_title": false,
      "title_cell": "Table of Contents",
      "title_sidebar": "Contents",
      "toc_cell": false,
      "toc_position": {},
      "toc_section_display": true,
      "toc_window_display": false
    },
    "colab": {
      "name": "f_90_opencv_perspective.ipynb",
      "provenance": [],
      "include_colab_link": true
    }
  },
  "cells": [
    {
      "cell_type": "markdown",
      "metadata": {
        "id": "view-in-github",
        "colab_type": "text"
      },
      "source": [
        "<a href=\"https://colab.research.google.com/github/kyoungtaepark/he0722/blob/main/f_90_opencv_perspective.ipynb\" target=\"_parent\"><img src=\"https://colab.research.google.com/assets/colab-badge.svg\" alt=\"Open In Colab\"/></a>"
      ]
    },
    {
      "cell_type": "markdown",
      "metadata": {
        "id": "bf65f6c6"
      },
      "source": [
        "# perspective\n",
        "- 참고 https://miatistory.tistory.com/5"
      ],
      "id": "bf65f6c6"
    },
    {
      "cell_type": "code",
      "metadata": {
        "colab": {
          "base_uri": "https://localhost:8080/"
        },
        "id": "0f8c1d58",
        "outputId": "3c3154db-3c2d-4ff1-b97d-f621babfe212"
      },
      "source": [
        " !pip install opencv-python"
      ],
      "id": "0f8c1d58",
      "execution_count": 8,
      "outputs": [
        {
          "output_type": "stream",
          "text": [
            "Requirement already satisfied: opencv-python in /usr/local/lib/python3.7/dist-packages (4.1.2.30)\n",
            "Requirement already satisfied: numpy>=1.14.5 in /usr/local/lib/python3.7/dist-packages (from opencv-python) (1.19.5)\n"
          ],
          "name": "stdout"
        }
      ]
    },
    {
      "cell_type": "code",
      "metadata": {
        "id": "1c62cec1"
      },
      "source": [
        "import numpy as np\n",
        "import cv2\n",
        "\n",
        "src = np.zeros([4, 2], dtype=np.float32)\n",
        "idx = 0\n",
        "\n",
        "def mouse_callback(event, x, y, flags, param):\n",
        "    global point_list, idx\n",
        "    if event == cv2.EVENT_LBUTTONDOWN:\n",
        "\n",
        "        src[idx] = (x, y)\n",
        "        idx = idx + 1\n",
        "\n",
        "        print(\"(%d, %d)\" % (x, y))\n",
        "\n",
        "        cv2.circle(img_color, (x, y), 10, (0, 0, 255), -1)\n",
        "\n",
        "cv2.namedWindow('original')\n",
        "cv2.setMouseCallback('original', mouse_callback)\n",
        "\n",
        "img_color = cv2.imread('test.jpg')\n",
        "img_original = img_color.copy()\n",
        "\n",
        "\n",
        "while(True):\n",
        "    cv2.imshow(\"original\", img_color)\n",
        "    height, width = img_color.shape[:2]\n",
        "\n",
        "    if cv2.waitKey(1) == 32: \n",
        "        break\n",
        "dst = np.float32([[0,0],[width,0],[0,height],[width,height]])\n",
        "M = cv2.getPerspectiveTransform(src,dst)\n",
        "img_result = cv2.warpPerspective(img_original, M, (width,height))\n",
        "\n",
        "cv2.imshow(\"result1\", img_result)\n",
        "cv2.waitKey(0)\n",
        "cv2.destroyAllWindows()"
      ],
      "id": "1c62cec1",
      "execution_count": null,
      "outputs": []
    },
    {
      "cell_type": "code",
      "metadata": {
        "id": "fb999a3e"
      },
      "source": [
        ""
      ],
      "id": "fb999a3e",
      "execution_count": null,
      "outputs": []
    },
    {
      "cell_type": "markdown",
      "metadata": {
        "id": "04a930ee"
      },
      "source": [
        ""
      ],
      "id": "04a930ee"
    },
    {
      "cell_type": "code",
      "metadata": {
        "id": "94b591ba"
      },
      "source": [
        ""
      ],
      "id": "94b591ba",
      "execution_count": null,
      "outputs": []
    }
  ]
}